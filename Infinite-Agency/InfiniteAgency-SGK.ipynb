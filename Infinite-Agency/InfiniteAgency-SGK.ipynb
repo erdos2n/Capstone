{
 "cells": [
  {
   "cell_type": "code",
   "execution_count": 1,
   "metadata": {
    "collapsed": true
   },
   "outputs": [],
   "source": [
    "import os, sys\n",
    "import glob\n",
    "import pandas as pd\n",
    "import numpy as np\n",
    "import scipy.special\n",
    "import operator\n",
    "\n",
    "from collections import Counter\n",
    "\n",
    "import matplotlib.pyplot as plt\n",
    "import matplotlib\n",
    "%matplotlib inline\n",
    "\n",
    "from bokeh.charts import Histogram, defaults, vplot, hplot, show, output_file"
   ]
  },
  {
   "cell_type": "code",
   "execution_count": 2,
   "metadata": {
    "collapsed": true
   },
   "outputs": [],
   "source": [
    "font = {'family' : 'monospace',\n",
    "        'weight' : 'medium',\n",
    "        'size'   : 18}\n",
    "\n",
    "matplotlib.rc('font', **font)"
   ]
  },
  {
   "cell_type": "markdown",
   "metadata": {},
   "source": [
    "# Cleaning Functions"
   ]
  },
  {
   "cell_type": "code",
   "execution_count": 3,
   "metadata": {
    "collapsed": true
   },
   "outputs": [],
   "source": [
    "import glob\n",
    "def make_big_frame():\n",
    "    \"\"\"\n",
    "    big_frame is every .csv file stacked on top of one another from the directory\n",
    "    \n",
    "    path = full file path\n",
    "    \n",
    "    it also prints if the columns were of equal length\n",
    "    \"\"\"\n",
    "    \n",
    "    # pull each csv into a list\n",
    "    dfs = []\n",
    "    #insert path here\n",
    "    #put in fullpath to file, and filetype = csv, txt, etc.\n",
    "    path = \"/home/rafa/github/For Businesses/Infinite-Agency/SGK/*.csv\" \n",
    "    count = 0\n",
    "    for fname in glob.glob(path):\n",
    "        count += 1\n",
    "        print 'file number:{}'.format(count)\n",
    "        dfs.append(pd.read_csv(fname))\n",
    "    \n",
    "    # creates a set of their column lengths\n",
    "    shape_set = set([df.shape[1] for df in dfs])\n",
    "    big_frame = pd.concat(dfs, ignore_index = True, axis = 0)\n",
    "    \n",
    "    if len(shape_set) > 1:\n",
    "        print 'Unequal Columns!'\n",
    "    else:\n",
    "        print 'Columns are equal length :)\\n Shape = {}'.format(big_frame.shape)\n",
    " \n",
    "    big_frame.dropna(axis = 1, how = 'all', inplace=True)\n",
    "    drop_nonunique(big_frame)\n",
    "    return big_frame"
   ]
  },
  {
   "cell_type": "code",
   "execution_count": 4,
   "metadata": {
    "collapsed": true
   },
   "outputs": [],
   "source": [
    "def make_datelist(big_frame):\n",
    "    datelist = []\n",
    "    for column in big_frame.columns:\n",
    "        if 'Date' in column:\n",
    "            datelist.append(column)\n",
    "    return datelist"
   ]
  },
  {
   "cell_type": "code",
   "execution_count": 5,
   "metadata": {
    "collapsed": true
   },
   "outputs": [],
   "source": [
    "def change_date(big_frame, datelist):\n",
    "    datelist = []\n",
    "    for column in datelist:\n",
    "        big_frame[column] = pd.to_datetime(big_frame[column], infer_datetime_format=False)\n",
    "    return big_frame"
   ]
  },
  {
   "cell_type": "code",
   "execution_count": 6,
   "metadata": {
    "collapsed": true
   },
   "outputs": [],
   "source": [
    "def drop_nonConversions(big_frame, datelist):\n",
    "    for column in datelist:\n",
    "        if column != 'ConversionDate':\n",
    "            big_frame.drop(column, axis=1, inplace=True)"
   ]
  },
  {
   "cell_type": "code",
   "execution_count": 7,
   "metadata": {
    "collapsed": true,
    "scrolled": true
   },
   "outputs": [],
   "source": [
    "def drop_nonunique(big_frame):\n",
    "    for column in big_frame.columns:\n",
    "        if len(big_frame[column].unique()) == 1:\n",
    "            big_frame.drop(column, axis=1, inplace=True)\n",
    "    print big_frame.shape"
   ]
  },
  {
   "cell_type": "markdown",
   "metadata": {},
   "source": [
    "# Create frame and add new columns\n",
    "-------------------------------"
   ]
  },
  {
   "cell_type": "code",
   "execution_count": 9,
   "metadata": {},
   "outputs": [
    {
     "name": "stdout",
     "output_type": "stream",
     "text": [
      "file number:1\n",
      "file number:2\n",
      "Columns are equal length :)\n",
      " Shape = (9, 4573)\n",
      "(9, 216)\n"
     ]
    },
    {
     "data": {
      "text/plain": [
       "(9, 197)"
      ]
     },
     "execution_count": 9,
     "metadata": {},
     "output_type": "execute_result"
    }
   ],
   "source": [
    "big_frame = make_big_frame()\n",
    "big_frame.shape\n",
    "datelist = make_datelist(big_frame)\n",
    "drop_nonConversions(big_frame, datelist)\n",
    "big_frame = change_date(big_frame, datelist)\n",
    "big_frame = change_date(big_frame, datelist)\n",
    "big_frame.drop_duplicates(inplace = True, subset = ['ConversionID'])\n",
    "big_frame.reset_index(inplace=True)\n",
    "big_frame.shape"
   ]
  },
  {
   "cell_type": "code",
   "execution_count": 10,
   "metadata": {
    "collapsed": true
   },
   "outputs": [],
   "source": [
    "time_list = []\n",
    "for datetimes in big_frame['ConversionDate']:\n",
    "    time_list.append(int(datetimes[11:13]))"
   ]
  },
  {
   "cell_type": "code",
   "execution_count": 11,
   "metadata": {
    "collapsed": true
   },
   "outputs": [],
   "source": [
    "path_lst = []\n",
    "for column in big_frame.columns:\n",
    "    if 'PlacementName/SearchKeywordName' in column:\n",
    "        path_lst.append(column)"
   ]
  },
  {
   "cell_type": "code",
   "execution_count": 12,
   "metadata": {
    "collapsed": true
   },
   "outputs": [],
   "source": [
    "paths_by_name = []\n",
    "for row in range(big_frame.shape[0]):\n",
    "    path_name = []\n",
    "    for item in range(len(path_lst)):\n",
    "        path_name.append(big_frame.loc[row, path_lst[item]])\n",
    "    \n",
    "    \n",
    "    paths_by_name.append(path_name)\n",
    "    \n",
    "for index, path in enumerate(paths_by_name):\n",
    "    paths_by_name[index] = [node for node in path if isinstance(node, str)]"
   ]
  },
  {
   "cell_type": "code",
   "execution_count": 13,
   "metadata": {
    "collapsed": true
   },
   "outputs": [],
   "source": [
    "path_lengths = [len(path) for path in paths_by_name]\n",
    "big_frame['path_lengths'] = path_lengths\n",
    "big_frame['paths_by_adname'] = paths_by_name\n",
    "big_frame['hour'] = time_list"
   ]
  },
  {
   "cell_type": "code",
   "execution_count": 18,
   "metadata": {},
   "outputs": [
    {
     "data": {
      "text/html": [
       "<div>\n",
       "<table border=\"1\" class=\"dataframe\">\n",
       "  <thead>\n",
       "    <tr style=\"text-align: right;\">\n",
       "      <th></th>\n",
       "      <th>index</th>\n",
       "      <th>UserID</th>\n",
       "      <th>ConversionID</th>\n",
       "      <th>ConversionDate</th>\n",
       "      <th>DeviceType</th>\n",
       "      <th>OperatingSystemType</th>\n",
       "      <th>BrowserType</th>\n",
       "      <th>State-Region</th>\n",
       "      <th>DMA</th>\n",
       "      <th>City</th>\n",
       "      <th>...</th>\n",
       "      <th>TargetAudienceName5</th>\n",
       "      <th>SiteVisitClassification5</th>\n",
       "      <th>SiteVisitReferralDomain5</th>\n",
       "      <th>Param1Name</th>\n",
       "      <th>Param1Value</th>\n",
       "      <th>Param2Name</th>\n",
       "      <th>param2Value</th>\n",
       "      <th>path_lengths</th>\n",
       "      <th>paths_by_adname</th>\n",
       "      <th>hour</th>\n",
       "    </tr>\n",
       "  </thead>\n",
       "  <tbody>\n",
       "    <tr>\n",
       "      <th>0</th>\n",
       "      <td>0</td>\n",
       "      <td>1.579932e+12</td>\n",
       "      <td>4.637723e+11</td>\n",
       "      <td>2017-04-26 12:39:32.316</td>\n",
       "      <td>Tablet</td>\n",
       "      <td>iOS 10.2</td>\n",
       "      <td>Safari</td>\n",
       "      <td>South Carolina</td>\n",
       "      <td>Charlotte</td>\n",
       "      <td>Rock Hill</td>\n",
       "      <td>...</td>\n",
       "      <td>NaN</td>\n",
       "      <td>SEARCH</td>\n",
       "      <td>r.search.yahoo.com</td>\n",
       "      <td>NaN</td>\n",
       "      <td>NaN</td>\n",
       "      <td>NaN</td>\n",
       "      <td>NaN</td>\n",
       "      <td>3</td>\n",
       "      <td>[Prospecting_Mobile_April_300x50, Prospecting_...</td>\n",
       "      <td>12</td>\n",
       "    </tr>\n",
       "    <tr>\n",
       "      <th>1</th>\n",
       "      <td>1</td>\n",
       "      <td>1.462052e+12</td>\n",
       "      <td>4.636078e+11</td>\n",
       "      <td>2017-04-26 04:14:09.511</td>\n",
       "      <td>Tablet</td>\n",
       "      <td>iOS 10.3</td>\n",
       "      <td>Safari</td>\n",
       "      <td>New York</td>\n",
       "      <td>New York</td>\n",
       "      <td>New York</td>\n",
       "      <td>...</td>\n",
       "      <td>Untargeted</td>\n",
       "      <td>NaN</td>\n",
       "      <td>NaN</td>\n",
       "      <td>NaN</td>\n",
       "      <td>NaN</td>\n",
       "      <td>NaN</td>\n",
       "      <td>NaN</td>\n",
       "      <td>5</td>\n",
       "      <td>[Prospecting_Mobile_April_320x50, Prospecting_...</td>\n",
       "      <td>4</td>\n",
       "    </tr>\n",
       "    <tr>\n",
       "      <th>2</th>\n",
       "      <td>2</td>\n",
       "      <td>1.925382e+12</td>\n",
       "      <td>4.626716e+11</td>\n",
       "      <td>2017-04-22 23:21:19.490</td>\n",
       "      <td>PC</td>\n",
       "      <td>Windows 10</td>\n",
       "      <td>Chrome</td>\n",
       "      <td>Washington</td>\n",
       "      <td>Seattle-Tacoma</td>\n",
       "      <td>Mount Vernon</td>\n",
       "      <td>...</td>\n",
       "      <td>NaN</td>\n",
       "      <td>NaN</td>\n",
       "      <td>NaN</td>\n",
       "      <td>NaN</td>\n",
       "      <td>NaN</td>\n",
       "      <td>NaN</td>\n",
       "      <td>NaN</td>\n",
       "      <td>1</td>\n",
       "      <td>[Prospecting_Display_April_300x250]</td>\n",
       "      <td>23</td>\n",
       "    </tr>\n",
       "    <tr>\n",
       "      <th>3</th>\n",
       "      <td>3</td>\n",
       "      <td>1.462052e+12</td>\n",
       "      <td>4.637334e+11</td>\n",
       "      <td>2017-04-26 11:29:23.862</td>\n",
       "      <td>Tablet</td>\n",
       "      <td>iOS 10.3</td>\n",
       "      <td>Safari</td>\n",
       "      <td>New York</td>\n",
       "      <td>New York</td>\n",
       "      <td>New York</td>\n",
       "      <td>...</td>\n",
       "      <td>Untargeted</td>\n",
       "      <td>NaN</td>\n",
       "      <td>NaN</td>\n",
       "      <td>NaN</td>\n",
       "      <td>NaN</td>\n",
       "      <td>NaN</td>\n",
       "      <td>NaN</td>\n",
       "      <td>5</td>\n",
       "      <td>[Prospecting_Mobile_April_320x50, Prospecting_...</td>\n",
       "      <td>11</td>\n",
       "    </tr>\n",
       "    <tr>\n",
       "      <th>4</th>\n",
       "      <td>4</td>\n",
       "      <td>1.959191e+12</td>\n",
       "      <td>4.680200e+11</td>\n",
       "      <td>2017-05-10 16:09:07.876</td>\n",
       "      <td>PC</td>\n",
       "      <td>Windows 10</td>\n",
       "      <td>Edge</td>\n",
       "      <td>Florida</td>\n",
       "      <td>Tampa-St. Pete (Sarasota)</td>\n",
       "      <td>Oldsmar</td>\n",
       "      <td>...</td>\n",
       "      <td>NaN</td>\n",
       "      <td>NaN</td>\n",
       "      <td>NaN</td>\n",
       "      <td>NaN</td>\n",
       "      <td>NaN</td>\n",
       "      <td>NaN</td>\n",
       "      <td>NaN</td>\n",
       "      <td>1</td>\n",
       "      <td>[Retargeting_Display_April_160x600]</td>\n",
       "      <td>16</td>\n",
       "    </tr>\n",
       "    <tr>\n",
       "      <th>5</th>\n",
       "      <td>5</td>\n",
       "      <td>1.943884e+12</td>\n",
       "      <td>4.631622e+11</td>\n",
       "      <td>2017-04-24 13:38:11.442</td>\n",
       "      <td>PC</td>\n",
       "      <td>Windows 7</td>\n",
       "      <td>Chrome</td>\n",
       "      <td>Ohio</td>\n",
       "      <td>Toledo</td>\n",
       "      <td>Tiffin</td>\n",
       "      <td>...</td>\n",
       "      <td>NaN</td>\n",
       "      <td>NaN</td>\n",
       "      <td>NaN</td>\n",
       "      <td>secCall</td>\n",
       "      <td>1.0</td>\n",
       "      <td>tp_be</td>\n",
       "      <td>$$206998$$</td>\n",
       "      <td>2</td>\n",
       "      <td>[Prospecting_Display_April_728x90, Prospecting...</td>\n",
       "      <td>13</td>\n",
       "    </tr>\n",
       "    <tr>\n",
       "      <th>6</th>\n",
       "      <td>6</td>\n",
       "      <td>1.417056e+12</td>\n",
       "      <td>4.672892e+11</td>\n",
       "      <td>2017-05-08 16:50:57.840</td>\n",
       "      <td>Smart Phone</td>\n",
       "      <td>Android 6.0</td>\n",
       "      <td>Chrome</td>\n",
       "      <td>Michigan</td>\n",
       "      <td>Detroit</td>\n",
       "      <td>Northville</td>\n",
       "      <td>...</td>\n",
       "      <td>NaN</td>\n",
       "      <td>NaN</td>\n",
       "      <td>NaN</td>\n",
       "      <td>secCall</td>\n",
       "      <td>1.0</td>\n",
       "      <td>tp_be</td>\n",
       "      <td>$$206998$$</td>\n",
       "      <td>1</td>\n",
       "      <td>[Prospecting_Mobile_ROC_PreRoll]</td>\n",
       "      <td>16</td>\n",
       "    </tr>\n",
       "    <tr>\n",
       "      <th>7</th>\n",
       "      <td>7</td>\n",
       "      <td>1.463322e+12</td>\n",
       "      <td>4.673169e+11</td>\n",
       "      <td>2017-05-08 12:33:49.791</td>\n",
       "      <td>Smart Phone</td>\n",
       "      <td>iOS 10.3</td>\n",
       "      <td>Safari</td>\n",
       "      <td>Ohio</td>\n",
       "      <td>Dayton</td>\n",
       "      <td>Dayton</td>\n",
       "      <td>...</td>\n",
       "      <td>NaN</td>\n",
       "      <td>SEARCH</td>\n",
       "      <td>www.google.com</td>\n",
       "      <td>secCall</td>\n",
       "      <td>1.0</td>\n",
       "      <td>tp_be</td>\n",
       "      <td>$$206998$$</td>\n",
       "      <td>3</td>\n",
       "      <td>[Prospecting_Mobile_May_320x50, Prospecting_Mo...</td>\n",
       "      <td>12</td>\n",
       "    </tr>\n",
       "    <tr>\n",
       "      <th>8</th>\n",
       "      <td>8</td>\n",
       "      <td>1.463322e+12</td>\n",
       "      <td>4.673169e+11</td>\n",
       "      <td>2017-05-08 16:28:33.105</td>\n",
       "      <td>Smart Phone</td>\n",
       "      <td>iOS 10.3</td>\n",
       "      <td>Safari</td>\n",
       "      <td>Ohio</td>\n",
       "      <td>Dayton</td>\n",
       "      <td>Dayton</td>\n",
       "      <td>...</td>\n",
       "      <td>Untargeted</td>\n",
       "      <td>NaN</td>\n",
       "      <td>NaN</td>\n",
       "      <td>secCall</td>\n",
       "      <td>1.0</td>\n",
       "      <td>tp_be</td>\n",
       "      <td>$$206998$$</td>\n",
       "      <td>3</td>\n",
       "      <td>[Prospecting_Mobile_May_320x50, Prospecting_Mo...</td>\n",
       "      <td>16</td>\n",
       "    </tr>\n",
       "  </tbody>\n",
       "</table>\n",
       "<p>9 rows × 200 columns</p>\n",
       "</div>"
      ],
      "text/plain": [
       "   index        UserID  ConversionID           ConversionDate   DeviceType  \\\n",
       "0      0  1.579932e+12  4.637723e+11  2017-04-26 12:39:32.316       Tablet   \n",
       "1      1  1.462052e+12  4.636078e+11  2017-04-26 04:14:09.511       Tablet   \n",
       "2      2  1.925382e+12  4.626716e+11  2017-04-22 23:21:19.490           PC   \n",
       "3      3  1.462052e+12  4.637334e+11  2017-04-26 11:29:23.862       Tablet   \n",
       "4      4  1.959191e+12  4.680200e+11  2017-05-10 16:09:07.876           PC   \n",
       "5      5  1.943884e+12  4.631622e+11  2017-04-24 13:38:11.442           PC   \n",
       "6      6  1.417056e+12  4.672892e+11  2017-05-08 16:50:57.840  Smart Phone   \n",
       "7      7  1.463322e+12  4.673169e+11  2017-05-08 12:33:49.791  Smart Phone   \n",
       "8      8  1.463322e+12  4.673169e+11  2017-05-08 16:28:33.105  Smart Phone   \n",
       "\n",
       "  OperatingSystemType BrowserType    State-Region                        DMA  \\\n",
       "0            iOS 10.2      Safari  South Carolina                  Charlotte   \n",
       "1            iOS 10.3      Safari        New York                   New York   \n",
       "2          Windows 10      Chrome      Washington             Seattle-Tacoma   \n",
       "3            iOS 10.3      Safari        New York                   New York   \n",
       "4          Windows 10        Edge         Florida  Tampa-St. Pete (Sarasota)   \n",
       "5           Windows 7      Chrome            Ohio                     Toledo   \n",
       "6         Android 6.0      Chrome        Michigan                    Detroit   \n",
       "7            iOS 10.3      Safari            Ohio                     Dayton   \n",
       "8            iOS 10.3      Safari            Ohio                     Dayton   \n",
       "\n",
       "           City ...   TargetAudienceName5 SiteVisitClassification5  \\\n",
       "0     Rock Hill ...                   NaN                   SEARCH   \n",
       "1      New York ...            Untargeted                      NaN   \n",
       "2  Mount Vernon ...                   NaN                      NaN   \n",
       "3      New York ...            Untargeted                      NaN   \n",
       "4       Oldsmar ...                   NaN                      NaN   \n",
       "5        Tiffin ...                   NaN                      NaN   \n",
       "6    Northville ...                   NaN                      NaN   \n",
       "7        Dayton ...                   NaN                   SEARCH   \n",
       "8        Dayton ...            Untargeted                      NaN   \n",
       "\n",
       "   SiteVisitReferralDomain5  Param1Name  Param1Value Param2Name param2Value  \\\n",
       "0        r.search.yahoo.com         NaN          NaN        NaN         NaN   \n",
       "1                       NaN         NaN          NaN        NaN         NaN   \n",
       "2                       NaN         NaN          NaN        NaN         NaN   \n",
       "3                       NaN         NaN          NaN        NaN         NaN   \n",
       "4                       NaN         NaN          NaN        NaN         NaN   \n",
       "5                       NaN     secCall          1.0      tp_be  $$206998$$   \n",
       "6                       NaN     secCall          1.0      tp_be  $$206998$$   \n",
       "7            www.google.com     secCall          1.0      tp_be  $$206998$$   \n",
       "8                       NaN     secCall          1.0      tp_be  $$206998$$   \n",
       "\n",
       "   path_lengths                                    paths_by_adname hour  \n",
       "0             3  [Prospecting_Mobile_April_300x50, Prospecting_...   12  \n",
       "1             5  [Prospecting_Mobile_April_320x50, Prospecting_...    4  \n",
       "2             1                [Prospecting_Display_April_300x250]   23  \n",
       "3             5  [Prospecting_Mobile_April_320x50, Prospecting_...   11  \n",
       "4             1                [Retargeting_Display_April_160x600]   16  \n",
       "5             2  [Prospecting_Display_April_728x90, Prospecting...   13  \n",
       "6             1                   [Prospecting_Mobile_ROC_PreRoll]   16  \n",
       "7             3  [Prospecting_Mobile_May_320x50, Prospecting_Mo...   12  \n",
       "8             3  [Prospecting_Mobile_May_320x50, Prospecting_Mo...   16  \n",
       "\n",
       "[9 rows x 200 columns]"
      ]
     },
     "execution_count": 18,
     "metadata": {},
     "output_type": "execute_result"
    }
   ],
   "source": [
    "big_frame"
   ]
  },
  {
   "cell_type": "markdown",
   "metadata": {},
   "source": [
    "# Make new frames"
   ]
  },
  {
   "cell_type": "code",
   "execution_count": 19,
   "metadata": {
    "collapsed": true
   },
   "outputs": [],
   "source": [
    "state_list = big_frame['State-Region'].unique()\n",
    "new_frame = big_frame[['ConversionID','BrowserType', 'OperatingSystemType', 'DeviceType','path_lengths', 'paths_by_adname', 'State-Region', 'hour']]\n",
    "smaller_frames = []\n",
    "for states in state_list:\n",
    "    smaller_frames.append(new_frame[new_frame['State-Region'] == states])"
   ]
  },
  {
   "cell_type": "code",
   "execution_count": 20,
   "metadata": {
    "collapsed": true
   },
   "outputs": [],
   "source": [
    "after_hours = new_frame[(new_frame['hour'] < 10) | (new_frame['hour'] > 22)].sort_values(by = ['path_lengths'])\n",
    "during_hours = new_frame[(new_frame['hour'] > 10) & (new_frame['hour'] < 22)].sort_values(by = ['path_lengths'])"
   ]
  },
  {
   "cell_type": "markdown",
   "metadata": {},
   "source": [
    "# Plot time of day histograms"
   ]
  },
  {
   "cell_type": "code",
   "execution_count": 21,
   "metadata": {},
   "outputs": [
    {
     "data": {
      "text/plain": [
       "9"
      ]
     },
     "execution_count": 21,
     "metadata": {},
     "output_type": "execute_result"
    }
   ],
   "source": [
    "new_frame['hour'].count()"
   ]
  },
  {
   "cell_type": "code",
   "execution_count": 22,
   "metadata": {},
   "outputs": [
    {
     "data": {
      "image/png": "[encoded data removed]",
      "text/plain": [
       "<matplotlib.figure.Figure at 0x7fe4a26e43d0>"
      ]
     },
     "metadata": {},
     "output_type": "display_data"
    }
   ],
   "source": [
    "fonts = 20\n",
    "f, (ax0) = plt.subplots(1, 1, figsize = (10, 10))\n",
    "\n",
    "ax0.grid(zorder = 0, linestyle = 'dashed', color = '#acaaa8')\n",
    "ax0.hist(new_frame['hour'], bins = 24, color = '#a7c059', zorder = 3, histtype='bar', ec='#383632')\n",
    "ax0.set_title('Conversions by Time of Day \\n Total Conversions = {}'.format(new_frame.shape[0]))\n",
    "ax0.set_xlabel('Time of Day', fontsize = fonts)\n",
    "ax0.set_ylabel('Conversions', fontsize = fonts)\n",
    "\n",
    "# ax1.grid(zorder = 0, linestyle = 'dashed', color = '#acaaa8')\n",
    "# ax1.hist(after_hours['hour'], bins = 24, color = '#a7c059', zorder = 3)\n",
    "# ax1.set_title('Between 10 pm and 10 am\\nTotal Conversions = {}'.format(after_hours.shape[0]))\n",
    "# ax1.set_xlabel('Time of Day', fontsize = fonts)\n",
    "# ax1.set_ylabel('Conversions', fontsize = fonts)\n",
    "\n",
    "\n",
    "# ax2.grid(zorder = 0, linestyle = 'dashed', color = '#acaaa8')\n",
    "# ax2.hist(during_hours['hour'], bins = 24, color = '#a7c059', zorder = 3)\n",
    "# ax2.set_title('Between 10 pm and 10 am\\n Total Conversions = {}'.format(during_hours.shape[0]))\n",
    "# ax2.set_xlabel('Time of Day', fontsize = fonts)\n",
    "# ax2.set_ylabel('Conversions', fontsize = fonts)\n",
    "\n",
    "plt.tight_layout()\n",
    "plt.show()"
   ]
  },
  {
   "cell_type": "code",
   "execution_count": 23,
   "metadata": {
    "collapsed": true
   },
   "outputs": [],
   "source": [
    "optimal = new_frame[new_frame['path_lengths'] < 6]\n",
    "optimal = optimal.sort_values(by = 'path_lengths')"
   ]
  },
  {
   "cell_type": "code",
   "execution_count": 24,
   "metadata": {
    "collapsed": true
   },
   "outputs": [],
   "source": [
    "ad_list = []\n",
    "for path_name in optimal['paths_by_adname']:\n",
    "    for ad in path_name:\n",
    "        if ad not in ad_list:\n",
    "            ad_list.append(ad)"
   ]
  },
  {
   "cell_type": "code",
   "execution_count": 25,
   "metadata": {
    "collapsed": true
   },
   "outputs": [],
   "source": [
    "vals = [0] * len(ad_list)"
   ]
  },
  {
   "cell_type": "code",
   "execution_count": 26,
   "metadata": {
    "collapsed": true
   },
   "outputs": [],
   "source": [
    "ads = dict(zip(ad_list, vals))"
   ]
  },
  {
   "cell_type": "code",
   "execution_count": 27,
   "metadata": {
    "collapsed": true
   },
   "outputs": [],
   "source": [
    "for different_paths in optimal['paths_by_adname']:\n",
    "    for ad in different_paths:\n",
    "        ads[ad] += 1"
   ]
  },
  {
   "cell_type": "code",
   "execution_count": 28,
   "metadata": {
    "collapsed": true
   },
   "outputs": [],
   "source": [
    "ads = sorted(ads.items(), key = operator.itemgetter(1))[::-1]"
   ]
  },
  {
   "cell_type": "code",
   "execution_count": 29,
   "metadata": {
    "collapsed": true
   },
   "outputs": [],
   "source": [
    "xvalues = range(1, len(ads) + 1)\n",
    "yvalues = [ad[1] for ad in ads]\n",
    "names = [ad[0][12::] for ad in ads]"
   ]
  },
  {
   "cell_type": "code",
   "execution_count": 30,
   "metadata": {
    "collapsed": true
   },
   "outputs": [],
   "source": [
    "sums = []\n",
    "for index in range(len(yvalues)):\n",
    "    sums.append(sum(yvalues[0:index]))"
   ]
  },
  {
   "cell_type": "code",
   "execution_count": 31,
   "metadata": {},
   "outputs": [
    {
     "data": {
      "text/plain": [
       "3.4285714285714284"
      ]
     },
     "execution_count": 31,
     "metadata": {},
     "output_type": "execute_result"
    }
   ],
   "source": [
    "disp_avg = sum([ad[1] for ad in ads])/float(len(ads))\n",
    "disp_avg"
   ]
  },
  {
   "cell_type": "code",
   "execution_count": 32,
   "metadata": {},
   "outputs": [
    {
     "data": {
      "image/png": "[encoded data removed]",
      "text/plain": [
       "<matplotlib.figure.Figure at 0x7fe4a2dd8e10>"
      ]
     },
     "metadata": {},
     "output_type": "display_data"
    }
   ],
   "source": [
    "fig, ax = plt.subplots(figsize = (10, 10))\n",
    "plt.grid(zorder = 0, linestyle = 'dashed', color = '#acaaa8')\n",
    "\n",
    "\n",
    "ax = plt.bar(xvalues, \n",
    "             yvalues,\n",
    "             ec='#383632',\n",
    "             color='#a7c059', \n",
    "             zorder = 3)\n",
    "\n",
    "plt.axhline(y = disp_avg, \n",
    "            zorder = 3, \n",
    "            color = '#383632', \n",
    "            linestyle = 'dashed', \n",
    "            label = 'Avg Impressions')\n",
    "\n",
    "plt.ylabel('Number of Impressions')\n",
    "# plt.xlabel('Ad Type')\n",
    "\n",
    "plt.xticks(xvalues, \n",
    "           names, \n",
    "           rotation = 90)\n",
    "\n",
    "\n",
    "plt.legend()\n",
    "plt.show()"
   ]
  },
  {
   "cell_type": "code",
   "execution_count": 33,
   "metadata": {},
   "outputs": [
    {
     "data": {
      "text/plain": [
       "2.6666666666666665"
      ]
     },
     "execution_count": 33,
     "metadata": {},
     "output_type": "execute_result"
    }
   ],
   "source": [
    "big_frame['path_lengths'].mean()"
   ]
  },
  {
   "cell_type": "code",
   "execution_count": 34,
   "metadata": {},
   "outputs": [
    {
     "data": {
      "text/plain": [
       "<matplotlib.lines.Line2D at 0x7fe4a2f82f10>"
      ]
     },
     "execution_count": 34,
     "metadata": {},
     "output_type": "execute_result"
    },
    {
     "data": {
      "image/png": "[encoded data removed]",
      "text/plain": [
       "<matplotlib.figure.Figure at 0x7fe4a2c72b10>"
      ]
     },
     "metadata": {},
     "output_type": "display_data"
    }
   ],
   "source": [
    "f, (ax0) = plt.subplots(1, 1, figsize = (10, 10))\n",
    "\n",
    "ax0.grid(zorder = 0, linestyle = 'dashed', color = '#acaaa8')\n",
    "ax0.hist(big_frame['path_lengths'], bins = 30, color = '#a7c059', zorder = 3, histtype='bar', ec='#383632')\n",
    "ax0.set_title('Histogram \\n Number of Paths')\n",
    "ax0.set_xlabel('Path Length', fontsize = fonts)\n",
    "ax0.set_ylabel('Number of People', fontsize = fonts)\n",
    "\n",
    "\n",
    "plt.axhline(y = big_frame['path_lengths'].mean(), \n",
    "            zorder = 3, \n",
    "            color = '#383632', \n",
    "            linestyle = 'dashed', \n",
    "            label = 'Avg Path Length')"
   ]
  },
  {
   "cell_type": "code",
   "execution_count": 35,
   "metadata": {},
   "outputs": [
    {
     "data": {
      "text/html": [
       "<div>\n",
       "<table border=\"1\" class=\"dataframe\">\n",
       "  <thead>\n",
       "    <tr style=\"text-align: right;\">\n",
       "      <th></th>\n",
       "      <th>ConversionID</th>\n",
       "      <th>BrowserType</th>\n",
       "      <th>OperatingSystemType</th>\n",
       "      <th>DeviceType</th>\n",
       "      <th>path_lengths</th>\n",
       "      <th>paths_by_adname</th>\n",
       "      <th>State-Region</th>\n",
       "      <th>hour</th>\n",
       "    </tr>\n",
       "  </thead>\n",
       "  <tbody>\n",
       "    <tr>\n",
       "      <th>2</th>\n",
       "      <td>4.626716e+11</td>\n",
       "      <td>Chrome</td>\n",
       "      <td>Windows 10</td>\n",
       "      <td>PC</td>\n",
       "      <td>1</td>\n",
       "      <td>[Prospecting_Display_April_300x250]</td>\n",
       "      <td>Washington</td>\n",
       "      <td>23</td>\n",
       "    </tr>\n",
       "    <tr>\n",
       "      <th>4</th>\n",
       "      <td>4.680200e+11</td>\n",
       "      <td>Edge</td>\n",
       "      <td>Windows 10</td>\n",
       "      <td>PC</td>\n",
       "      <td>1</td>\n",
       "      <td>[Retargeting_Display_April_160x600]</td>\n",
       "      <td>Florida</td>\n",
       "      <td>16</td>\n",
       "    </tr>\n",
       "    <tr>\n",
       "      <th>6</th>\n",
       "      <td>4.672892e+11</td>\n",
       "      <td>Chrome</td>\n",
       "      <td>Android 6.0</td>\n",
       "      <td>Smart Phone</td>\n",
       "      <td>1</td>\n",
       "      <td>[Prospecting_Mobile_ROC_PreRoll]</td>\n",
       "      <td>Michigan</td>\n",
       "      <td>16</td>\n",
       "    </tr>\n",
       "    <tr>\n",
       "      <th>5</th>\n",
       "      <td>4.631622e+11</td>\n",
       "      <td>Chrome</td>\n",
       "      <td>Windows 7</td>\n",
       "      <td>PC</td>\n",
       "      <td>2</td>\n",
       "      <td>[Prospecting_Display_April_728x90, Prospecting...</td>\n",
       "      <td>Ohio</td>\n",
       "      <td>13</td>\n",
       "    </tr>\n",
       "    <tr>\n",
       "      <th>0</th>\n",
       "      <td>4.637723e+11</td>\n",
       "      <td>Safari</td>\n",
       "      <td>iOS 10.2</td>\n",
       "      <td>Tablet</td>\n",
       "      <td>3</td>\n",
       "      <td>[Prospecting_Mobile_April_300x50, Prospecting_...</td>\n",
       "      <td>South Carolina</td>\n",
       "      <td>12</td>\n",
       "    </tr>\n",
       "  </tbody>\n",
       "</table>\n",
       "</div>"
      ],
      "text/plain": [
       "   ConversionID BrowserType OperatingSystemType   DeviceType  path_lengths  \\\n",
       "2  4.626716e+11      Chrome          Windows 10           PC             1   \n",
       "4  4.680200e+11        Edge          Windows 10           PC             1   \n",
       "6  4.672892e+11      Chrome         Android 6.0  Smart Phone             1   \n",
       "5  4.631622e+11      Chrome           Windows 7           PC             2   \n",
       "0  4.637723e+11      Safari            iOS 10.2       Tablet             3   \n",
       "\n",
       "                                     paths_by_adname    State-Region  hour  \n",
       "2                [Prospecting_Display_April_300x250]      Washington    23  \n",
       "4                [Retargeting_Display_April_160x600]         Florida    16  \n",
       "6                   [Prospecting_Mobile_ROC_PreRoll]        Michigan    16  \n",
       "5  [Prospecting_Display_April_728x90, Prospecting...            Ohio    13  \n",
       "0  [Prospecting_Mobile_April_300x50, Prospecting_...  South Carolina    12  "
      ]
     },
     "execution_count": 35,
     "metadata": {},
     "output_type": "execute_result"
    }
   ],
   "source": [
    "optimal.head()"
   ]
  },
  {
   "cell_type": "code",
   "execution_count": 36,
   "metadata": {
    "collapsed": true
   },
   "outputs": [],
   "source": [
    "optimal_list = []\n",
    "for lengths in optimal['path_lengths'].unique():\n",
    "    df = optimal[optimal['path_lengths'] == lengths]\n",
    "    optimal_list.append(df)"
   ]
  },
  {
   "cell_type": "code",
   "execution_count": 37,
   "metadata": {},
   "outputs": [
    {
     "ename": "IndexError",
     "evalue": "list index out of range",
     "output_type": "error",
     "traceback": [
      "\u001b[0;31m---------------------------------------------------------------------------\u001b[0m",
      "\u001b[0;31mIndexError\u001b[0m                                Traceback (most recent call last)",
      "\u001b[0;32m<ipython-input-37-ac44e2944149>\u001b[0m in \u001b[0;36m<module>\u001b[0;34m()\u001b[0m\n\u001b[0;32m----> 1\u001b[0;31m \u001b[0moptimal_list\u001b[0m\u001b[0;34m[\u001b[0m\u001b[0;36m4\u001b[0m\u001b[0;34m]\u001b[0m\u001b[0;34m\u001b[0m\u001b[0m\n\u001b[0m",
      "\u001b[0;31mIndexError\u001b[0m: list index out of range"
     ]
    }
   ],
   "source": [
    "optimal_list[4]"
   ]
  },
  {
   "cell_type": "code",
   "execution_count": 38,
   "metadata": {
    "collapsed": true
   },
   "outputs": [],
   "source": [
    "count_paths = Counter()\n",
    "for paths in optimal['paths_by_adname']:\n",
    "    count_paths[str(paths)] += 1\n",
    "    \n",
    "count_paths = sorted(count_paths.items(), key = operator.itemgetter(1))[::-1]"
   ]
  },
  {
   "cell_type": "code",
   "execution_count": 39,
   "metadata": {},
   "outputs": [
    {
     "name": "stdout",
     "output_type": "stream",
     "text": [
      "(\"['Prospecting_Mobile_April_320x50', 'Prospecting_Mobile_April_320x50', 'Prospecting_Mobile_April_320x50', 'Prospecting_Mobile_April_300x50', 'Prospecting_Mobile_April_320x50']\", 2)\n",
      "(\"['Prospecting_Mobile_May_320x50', 'Prospecting_Mobile_May_320x50', 'Prospecting_Mobile_May_320x50']\", 2)\n",
      "(\"['Retargeting_Display_April_160x600']\", 1)\n",
      "(\"['Prospecting_Display_April_728x90', 'Prospecting_Display_April_728x90']\", 1)\n",
      "(\"['Prospecting_Mobile_April_300x50', 'Prospecting_Mobile_April_320x50', 'Prospecting_Mobile_April_300x50']\", 1)\n",
      "(\"['Prospecting_Mobile_ROC_PreRoll']\", 1)\n",
      "(\"['Prospecting_Display_April_300x250']\", 1)\n"
     ]
    }
   ],
   "source": [
    "for item in count_paths:\n",
    "    print item "
   ]
  },
  {
   "cell_type": "code",
   "execution_count": 40,
   "metadata": {},
   "outputs": [
    {
     "data": {
      "text/html": [
       "<div>\n",
       "<table border=\"1\" class=\"dataframe\">\n",
       "  <thead>\n",
       "    <tr style=\"text-align: right;\">\n",
       "      <th></th>\n",
       "      <th>ConversionID</th>\n",
       "      <th>BrowserType</th>\n",
       "      <th>OperatingSystemType</th>\n",
       "      <th>DeviceType</th>\n",
       "      <th>path_lengths</th>\n",
       "      <th>paths_by_adname</th>\n",
       "      <th>State-Region</th>\n",
       "      <th>hour</th>\n",
       "    </tr>\n",
       "  </thead>\n",
       "  <tbody>\n",
       "    <tr>\n",
       "      <th>2</th>\n",
       "      <td>4.626716e+11</td>\n",
       "      <td>Chrome</td>\n",
       "      <td>Windows 10</td>\n",
       "      <td>PC</td>\n",
       "      <td>1</td>\n",
       "      <td>[Prospecting_Display_April_300x250]</td>\n",
       "      <td>Washington</td>\n",
       "      <td>23</td>\n",
       "    </tr>\n",
       "    <tr>\n",
       "      <th>4</th>\n",
       "      <td>4.680200e+11</td>\n",
       "      <td>Edge</td>\n",
       "      <td>Windows 10</td>\n",
       "      <td>PC</td>\n",
       "      <td>1</td>\n",
       "      <td>[Retargeting_Display_April_160x600]</td>\n",
       "      <td>Florida</td>\n",
       "      <td>16</td>\n",
       "    </tr>\n",
       "    <tr>\n",
       "      <th>6</th>\n",
       "      <td>4.672892e+11</td>\n",
       "      <td>Chrome</td>\n",
       "      <td>Android 6.0</td>\n",
       "      <td>Smart Phone</td>\n",
       "      <td>1</td>\n",
       "      <td>[Prospecting_Mobile_ROC_PreRoll]</td>\n",
       "      <td>Michigan</td>\n",
       "      <td>16</td>\n",
       "    </tr>\n",
       "    <tr>\n",
       "      <th>5</th>\n",
       "      <td>4.631622e+11</td>\n",
       "      <td>Chrome</td>\n",
       "      <td>Windows 7</td>\n",
       "      <td>PC</td>\n",
       "      <td>2</td>\n",
       "      <td>[Prospecting_Display_April_728x90, Prospecting...</td>\n",
       "      <td>Ohio</td>\n",
       "      <td>13</td>\n",
       "    </tr>\n",
       "    <tr>\n",
       "      <th>0</th>\n",
       "      <td>4.637723e+11</td>\n",
       "      <td>Safari</td>\n",
       "      <td>iOS 10.2</td>\n",
       "      <td>Tablet</td>\n",
       "      <td>3</td>\n",
       "      <td>[Prospecting_Mobile_April_300x50, Prospecting_...</td>\n",
       "      <td>South Carolina</td>\n",
       "      <td>12</td>\n",
       "    </tr>\n",
       "    <tr>\n",
       "      <th>7</th>\n",
       "      <td>4.673169e+11</td>\n",
       "      <td>Safari</td>\n",
       "      <td>iOS 10.3</td>\n",
       "      <td>Smart Phone</td>\n",
       "      <td>3</td>\n",
       "      <td>[Prospecting_Mobile_May_320x50, Prospecting_Mo...</td>\n",
       "      <td>Ohio</td>\n",
       "      <td>12</td>\n",
       "    </tr>\n",
       "    <tr>\n",
       "      <th>8</th>\n",
       "      <td>4.673169e+11</td>\n",
       "      <td>Safari</td>\n",
       "      <td>iOS 10.3</td>\n",
       "      <td>Smart Phone</td>\n",
       "      <td>3</td>\n",
       "      <td>[Prospecting_Mobile_May_320x50, Prospecting_Mo...</td>\n",
       "      <td>Ohio</td>\n",
       "      <td>16</td>\n",
       "    </tr>\n",
       "    <tr>\n",
       "      <th>1</th>\n",
       "      <td>4.636078e+11</td>\n",
       "      <td>Safari</td>\n",
       "      <td>iOS 10.3</td>\n",
       "      <td>Tablet</td>\n",
       "      <td>5</td>\n",
       "      <td>[Prospecting_Mobile_April_320x50, Prospecting_...</td>\n",
       "      <td>New York</td>\n",
       "      <td>4</td>\n",
       "    </tr>\n",
       "    <tr>\n",
       "      <th>3</th>\n",
       "      <td>4.637334e+11</td>\n",
       "      <td>Safari</td>\n",
       "      <td>iOS 10.3</td>\n",
       "      <td>Tablet</td>\n",
       "      <td>5</td>\n",
       "      <td>[Prospecting_Mobile_April_320x50, Prospecting_...</td>\n",
       "      <td>New York</td>\n",
       "      <td>11</td>\n",
       "    </tr>\n",
       "  </tbody>\n",
       "</table>\n",
       "</div>"
      ],
      "text/plain": [
       "   ConversionID BrowserType OperatingSystemType   DeviceType  path_lengths  \\\n",
       "2  4.626716e+11      Chrome          Windows 10           PC             1   \n",
       "4  4.680200e+11        Edge          Windows 10           PC             1   \n",
       "6  4.672892e+11      Chrome         Android 6.0  Smart Phone             1   \n",
       "5  4.631622e+11      Chrome           Windows 7           PC             2   \n",
       "0  4.637723e+11      Safari            iOS 10.2       Tablet             3   \n",
       "7  4.673169e+11      Safari            iOS 10.3  Smart Phone             3   \n",
       "8  4.673169e+11      Safari            iOS 10.3  Smart Phone             3   \n",
       "1  4.636078e+11      Safari            iOS 10.3       Tablet             5   \n",
       "3  4.637334e+11      Safari            iOS 10.3       Tablet             5   \n",
       "\n",
       "                                     paths_by_adname    State-Region  hour  \n",
       "2                [Prospecting_Display_April_300x250]      Washington    23  \n",
       "4                [Retargeting_Display_April_160x600]         Florida    16  \n",
       "6                   [Prospecting_Mobile_ROC_PreRoll]        Michigan    16  \n",
       "5  [Prospecting_Display_April_728x90, Prospecting...            Ohio    13  \n",
       "0  [Prospecting_Mobile_April_300x50, Prospecting_...  South Carolina    12  \n",
       "7  [Prospecting_Mobile_May_320x50, Prospecting_Mo...            Ohio    12  \n",
       "8  [Prospecting_Mobile_May_320x50, Prospecting_Mo...            Ohio    16  \n",
       "1  [Prospecting_Mobile_April_320x50, Prospecting_...        New York     4  \n",
       "3  [Prospecting_Mobile_April_320x50, Prospecting_...        New York    11  "
      ]
     },
     "execution_count": 40,
     "metadata": {},
     "output_type": "execute_result"
    }
   ],
   "source": [
    "optimal"
   ]
  }
 ],
 "metadata": {
  "kernelspec": {
   "display_name": "Python 2",
   "language": "python",
   "name": "python2"
  },
  "language_info": {
   "codemirror_mode": {
    "name": "ipython",
    "version": 2
   },
   "file_extension": ".py",
   "mimetype": "text/x-python",
   "name": "python",
   "nbconvert_exporter": "python",
   "pygments_lexer": "ipython2",
   "version": "2.7.13"
  }
 },
 "nbformat": 4,
 "nbformat_minor": 2
}
